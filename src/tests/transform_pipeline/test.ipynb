{
 "cells": [
  {
   "cell_type": "code",
   "execution_count": 3,
   "metadata": {},
   "outputs": [],
   "source": [
    "import numpy as np\n",
    "\n",
    "f = 1 / (1 << 13)\n",
    "fd = 1 / (1 << 26)"
   ]
  },
  {
   "cell_type": "code",
   "execution_count": 1,
   "metadata": {},
   "outputs": [],
   "source": [
    "mvp = [\n",
    "    [2.41521, 0.00000,  0.00000,  0.00000],\n",
    "    [0.00000, 2.41521,  0.00000,  0.00000],\n",
    "    [0.00000, 0.00000, -1.00200, -1.00000],\n",
    "    [0.00000, 0.00000,  7.81581,  8.00000]\n",
    "]\n",
    "\n",
    "vector = [-1, -1, 1, 1]"
   ]
  },
  {
   "cell_type": "code",
   "execution_count": 4,
   "metadata": {},
   "outputs": [
    {
     "name": "stdout",
     "output_type": "stream",
     "text": [
      "i: 0\n",
      "-0.2914779999999999\n",
      "i: 1\n",
      "-2.414213\n",
      "i: 2\n",
      "-3.122736\n",
      "i: 3\n",
      "15.815815\n"
     ]
    }
   ],
   "source": [
    "for i in range(4):\n",
    "    print(f\"i: {i}\")    \n",
    "\n",
    "    s = 0\n",
    "    for j in range(4):\n",
    "        s += mvp[i][j] * vector[j]\n",
    "    print(s)"
   ]
  },
  {
   "cell_type": "code",
   "execution_count": 5,
   "metadata": {},
   "outputs": [
    {
     "name": "stdout",
     "output_type": "stream",
     "text": [
      "[-0.291478 -2.414213 -3.122736 15.815815]\n"
     ]
    }
   ],
   "source": [
    "mvp_np = np.array(mvp)\n",
    "vector_np = np.array(vector)\n",
    "\n",
    "print(np.dot(mvp_np, vector_np))"
   ]
  }
 ],
 "metadata": {
  "kernelspec": {
   "display_name": "Python 3",
   "language": "python",
   "name": "python3"
  },
  "language_info": {
   "codemirror_mode": {
    "name": "ipython",
    "version": 3
   },
   "file_extension": ".py",
   "mimetype": "text/x-python",
   "name": "python",
   "nbconvert_exporter": "python",
   "pygments_lexer": "ipython3",
   "version": "3.10.12"
  }
 },
 "nbformat": 4,
 "nbformat_minor": 2
}
